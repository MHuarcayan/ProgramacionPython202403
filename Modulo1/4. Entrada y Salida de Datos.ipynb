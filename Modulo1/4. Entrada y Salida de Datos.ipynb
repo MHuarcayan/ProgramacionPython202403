{
 "cells": [
  {
   "cell_type": "markdown",
   "metadata": {},
   "source": [
    "# ENTRADA Y SALIDA DE DATOS"
   ]
  },
  {
   "cell_type": "markdown",
   "metadata": {},
   "source": [
    "## 1. Entrada de Información por teclado (Input)"
   ]
  },
  {
   "cell_type": "markdown",
   "metadata": {},
   "source": [
    "En python la funcion input() nos ayudará con la tarea de capturar datos del usuario"
   ]
  },
  {
   "cell_type": "code",
   "execution_count": 2,
   "metadata": {},
   "outputs": [
    {
     "data": {
      "text/plain": [
       "'2.3'"
      ]
     },
     "execution_count": 2,
     "metadata": {},
     "output_type": "execute_result"
    }
   ],
   "source": [
    "# input por defecto nos devuelve datos de tipo texto\n",
    "# SHIFT + ENTER -> EJECUTAR CELDA ACTUAL Y IR A LA SIGUIENTE CELDA\n",
    "# CONTROL + ENTER -> EJECUTAR CELDA ACTUAL\n",
    "numero = input(\"Introduce un número decimal con punto: \")\n",
    "numero"
   ]
  },
  {
   "cell_type": "code",
   "execution_count": 3,
   "metadata": {},
   "outputs": [
    {
     "data": {
      "text/plain": [
       "str"
      ]
     },
     "execution_count": 3,
     "metadata": {},
     "output_type": "execute_result"
    }
   ],
   "source": [
    "type(numero)"
   ]
  },
  {
   "cell_type": "code",
   "execution_count": 4,
   "metadata": {},
   "outputs": [
    {
     "data": {
      "text/plain": [
       "2.3"
      ]
     },
     "execution_count": 4,
     "metadata": {},
     "output_type": "execute_result"
    }
   ],
   "source": [
    "numero = float(numero)\n",
    "numero"
   ]
  },
  {
   "cell_type": "code",
   "execution_count": 5,
   "metadata": {},
   "outputs": [
    {
     "data": {
      "text/plain": [
       "2.3"
      ]
     },
     "execution_count": 5,
     "metadata": {},
     "output_type": "execute_result"
    }
   ],
   "source": [
    "# tab -> autocompleta texto\n",
    "numero"
   ]
  },
  {
   "cell_type": "code",
   "execution_count": 6,
   "metadata": {},
   "outputs": [
    {
     "data": {
      "text/plain": [
       "float"
      ]
     },
     "execution_count": 6,
     "metadata": {},
     "output_type": "execute_result"
    }
   ],
   "source": [
    "\n",
    "type(numero)\n"
   ]
  },
  {
   "cell_type": "code",
   "execution_count": 8,
   "metadata": {},
   "outputs": [
    {
     "data": {
      "text/plain": [
       "23.0"
      ]
     },
     "execution_count": 8,
     "metadata": {},
     "output_type": "execute_result"
    }
   ],
   "source": [
    "# shift + tab -> documentacion de la funcion que estoy empleando\n",
    "decimal = float(input(\"Ingrese un valor numerico:  \"))\n",
    "decimal"
   ]
  },
  {
   "cell_type": "code",
   "execution_count": 11,
   "metadata": {},
   "outputs": [
    {
     "data": {
      "text/plain": [
       "25"
      ]
     },
     "execution_count": 11,
     "metadata": {},
     "output_type": "execute_result"
    }
   ],
   "source": [
    "# CUIDADO -> recordar que input retorna un str\n",
    "\n",
    "edad = input('ingrese su edad')\n",
    "\n",
    "edad + 2\n"
   ]
  },
  {
   "cell_type": "code",
   "execution_count": 12,
   "metadata": {},
   "outputs": [
    {
     "data": {
      "text/plain": [
       "25"
      ]
     },
     "execution_count": 12,
     "metadata": {},
     "output_type": "execute_result"
    }
   ],
   "source": [
    "edad = int(input('ingrese su edad'))\n",
    "\n",
    "edad + 2"
   ]
  },
  {
   "cell_type": "markdown",
   "metadata": {},
   "source": [
    "## 2. Entrada de datos por Argumentos"
   ]
  },
  {
   "cell_type": "markdown",
   "metadata": {},
   "source": [
    "Para poder enviar información a un script y manejarla, tenemos que utilizar la librería de sistema [sys](https://www.geeksforgeeks.org/how-to-use-sys-argv-in-python/). En ella encontraremos la lista argv que almacena los argumentos enviados al script."
   ]
  },
  {
   "cell_type": "code",
   "execution_count": null,
   "metadata": {},
   "outputs": [],
   "source": [
    "# Hacer en vscode\n",
    "import sys\n",
    "print(sys.argv)"
   ]
  },
  {
   "cell_type": "markdown",
   "metadata": {},
   "source": [
    "## 3. Salida de información (Output)"
   ]
  },
  {
   "cell_type": "markdown",
   "metadata": {},
   "source": [
    "La función print nos ayudará a realizar salidas de información"
   ]
  },
  {
   "cell_type": "code",
   "execution_count": null,
   "metadata": {},
   "outputs": [],
   "source": [
    "print('hola')"
   ]
  },
  {
   "cell_type": "code",
   "execution_count": 10,
   "metadata": {},
   "outputs": [
    {
     "name": "stdout",
     "output_type": "stream",
     "text": [
      "El valor de la suma es 10\n",
      "El valor de la suma es: 10\n",
      "El valor de la suma es: 10\n"
     ]
    }
   ],
   "source": [
    "## Nota -> Agregando una variable a la cadena de impresión\n",
    "\n",
    "suma = 3 +7 # int\n",
    "\n",
    "# Opcion 1\n",
    "print(\"El valor de la suma es \"+  str(suma)) # str(suma) -> concadenacion solo sirve para strings\n",
    "\n",
    "# Opcion 2 -> Mejor opcion\n",
    "print(f\"El valor de la suma es: {suma}\") # formatea el numero a texto\n",
    "\n",
    "# opcion 3 -> Otra buena Opcion\n",
    "print(\"El valor de la suma es: {}\".format(suma))\n",
    "\n"
   ]
  },
  {
   "cell_type": "markdown",
   "metadata": {},
   "source": [
    "# EJERCICIOS"
   ]
  },
  {
   "cell_type": "markdown",
   "metadata": {},
   "source": [
    "#### 1. Realiza un programa que lea 2 números por teclado y determine los siguientes aspectos (es suficiene con mostrar True o False):\n",
    "\n",
    "- Si los dos números son iguales\n",
    "- Si los dos números son diferentes\n",
    "- Si el primero es mayor que el segundo\n",
    "- Si el segundo es mayor o igual que el primero"
   ]
  },
  {
   "cell_type": "code",
   "execution_count": 2,
   "metadata": {},
   "outputs": [
    {
     "name": "stdout",
     "output_type": "stream",
     "text": [
      "¿Los dos números son iguales? False\n",
      "¿Los dos números son diferentes? True\n",
      "¿El primero es mayor que el segundo? False\n",
      "¿El segundo es mayor o igual que el primero? True\n"
     ]
    }
   ],
   "source": [
    "# Leer dos números por teclado\n",
    "num1 = float(input(\"Ingrese el primer número: \"))\n",
    "num2 = float(input(\"Ingrese el segundo número: \"))\n",
    "\n",
    "# Determinar si los dos números son iguales\n",
    "son_iguales = num1 == num2\n",
    "\n",
    "# Determinar si los dos números son diferentes\n",
    "son_diferentes = num1 != num2\n",
    "\n",
    "# Determinar si el primero es mayor que el segundo\n",
    "primero_mayor = num1 > num2\n",
    "\n",
    "# Determinar si el segundo es mayor o igual que el primero\n",
    "segundo_mayor_igual = num2 >= num1\n",
    "\n",
    "# Mostrar los resultados\n",
    "print(f\"¿Los dos números son iguales?: {son_iguales}\")\n",
    "print(\"¿Los dos números son diferentes?\", son_diferentes)\n",
    "print(\"¿El primero es mayor que el segundo?\", primero_mayor)\n",
    "print(\"¿El segundo es mayor o igual que el primero?\", segundo_mayor_igual)"
   ]
  },
  {
   "cell_type": "markdown",
   "metadata": {},
   "source": [
    "### 2. \n",
    "Una panadería vende barras de pan a 3.49€ cada una. El pan que no es el día tiene un descuento del 60%. Escribir un programa que comience leyendo el número de barras vendidas que no son del día. Después el programa debe mostrar el precio habitual de una barra de pan, el descuento que se le hace por no ser fresca y el coste final total."
   ]
  },
  {
   "cell_type": "code",
   "execution_count": 5,
   "metadata": {},
   "outputs": [
    {
     "name": "stdout",
     "output_type": "stream",
     "text": [
      "Precio habitual de una barra de pan: 3.49 €\n",
      "Descuento por no ser del día: 60.0 %\n",
      "Coste final total de las barras no frescas: 55.84 €\n"
     ]
    }
   ],
   "source": [
    "# Precio habitual de una barra de pan\n",
    "precio_normal = 3.49\n",
    "\n",
    "# Descuento por no ser del día (60%)\n",
    "descuento = 0.60\n",
    "\n",
    "# Leer el número de barras vendidas que no son del día\n",
    "barras_no_frescas = int(input(\"Ingrese el número de barras vendidas que no son del día: \"))\n",
    "\n",
    "# Calcular el precio total de las barras no frescas\n",
    "precio_total_no_frescas = barras_no_frescas * precio_normal * (1 - descuento)\n",
    "\n",
    "# Mostrar los resultados\n",
    "print(\"Precio habitual de una barra de pan:\", precio_normal, \"€\")\n",
    "print(\"Descuento por no ser del día:\", descuento * 100, \"%\")\n",
    "print(\"Coste final total de las barras no frescas:\", round(precio_total_no_frescas, 2), \"€\")"
   ]
  },
  {
   "cell_type": "code",
   "execution_count": 11,
   "metadata": {},
   "outputs": [
    {
     "name": "stdout",
     "output_type": "stream",
     "text": [
      "El precio habitual de una barra de pan es: 3.49€\n",
      "El Decuento por no ser fresca es: 60.0 %\n",
      "El coste final total de barras no frescas es: 55.84 €\n"
     ]
    }
   ],
   "source": [
    "# precio pan habitual\n",
    "Precio_normal = 3.49\n",
    "# Descuento por no ser del dia\n",
    "descuento = 0.6\n",
    "# leer el numero de barras que no son del dia\n",
    "Barras_no_frescas = int(input(\"Ingresar el numero de barras vendidas que no son del dia: \"))\n",
    "# Calcular precio total de barras no frescas\n",
    "Precio_Total_bnfrescas = Barras_no_frescas * Precio_normal * (1-descuento)\n",
    "#Mostrar resultados\n",
    "print(f\"El precio habitual de una barra de pan es: {Precio_normal}€\")\n",
    "print(f\"El Decuento por no ser fresca es: {descuento*100} %\")\n",
    "print(f\"El coste final total de barras no frescas es:\", round(Precio_Total_bnfrescas, 2),\"€\")\n"
   ]
  },
  {
   "cell_type": "markdown",
   "metadata": {},
   "source": [
    "### 3. \n",
    "Escribir un programa que pida al usuario su peso (en kg) y estatura (en metros), calcule el índice de masa corporal y lo almacene en una variable, y muestre por pantalla la frase Tu índice de masa corporal es <imc> donde <imc> es el índice de masa corporal calculado redondeado con dos decimales.\n",
    "\n",
    "\n"
   ]
  },
  {
   "cell_type": "code",
   "execution_count": 13,
   "metadata": {},
   "outputs": [
    {
     "name": "stdout",
     "output_type": "stream",
     "text": [
      "Tu indice de masa corporal es 8.03\n"
     ]
    }
   ],
   "source": [
    "# Definir datos de peso y talla\n",
    "Peso = float(input(\"Ingresar su peso en kg: \"))\n",
    "Estatura = float(input(\"Ingresar su estatura en metros: \"))\n",
    "# Calculado el indice de masa corporal \n",
    "IMC = Peso / Estatura**2\n",
    "# mostrar resultados\n",
    "print(f\"Tu indice de masa corporal es\", round(IMC, 2))"
   ]
  },
  {
   "cell_type": "markdown",
   "metadata": {},
   "source": [
    "4. \n",
    "\n",
    "Escriba un programa python que solicite un texto por teclado y convierta todos los carácteres en minuscula. \n",
    "Ejemplo\n",
    "\n",
    "texto ingresado -> \"Hola AmigOs\"\n",
    "resultado -> \"hola amigos\""
   ]
  },
  {
   "cell_type": "code",
   "execution_count": 15,
   "metadata": {},
   "outputs": [
    {
     "name": "stdout",
     "output_type": "stream",
     "text": [
      "El texto en minusculas es: hole\n"
     ]
    }
   ],
   "source": [
    "# Solicitud de texto \n",
    "Texto = input(\"Ingresar un texto: \")\n",
    "# Convertir texto a minusculas\n",
    "Texto = Texto.lower()\n",
    "# Mostrar resultados\n",
    "print(f\"El texto en minusculas es: {Texto}\")"
   ]
  },
  {
   "cell_type": "code",
   "execution_count": null,
   "metadata": {},
   "outputs": [],
   "source": []
  }
 ],
 "metadata": {
  "kernelspec": {
   "display_name": "Python 3 (ipykernel)",
   "language": "python",
   "name": "python3"
  },
  "language_info": {
   "codemirror_mode": {
    "name": "ipython",
    "version": 3
   },
   "file_extension": ".py",
   "mimetype": "text/x-python",
   "name": "python",
   "nbconvert_exporter": "python",
   "pygments_lexer": "ipython3",
   "version": "3.10.13"
  }
 },
 "nbformat": 4,
 "nbformat_minor": 4
}
